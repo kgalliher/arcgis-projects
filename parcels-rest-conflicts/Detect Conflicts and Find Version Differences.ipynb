{
 "cells": [
  {
   "cell_type": "code",
   "execution_count": 1,
   "id": "c467b82f",
   "metadata": {},
   "outputs": [],
   "source": [
    "from arcgis.gis import GIS\n",
    "from arcgis.features import FeatureLayer\n",
    "from arcgis.features._version import VersionManager"
   ]
  },
  {
   "cell_type": "markdown",
   "id": "35e96e42",
   "metadata": {},
   "source": [
    "## Branch Versioning and Parcel Fabrics with the ArcGIS API for Python\n",
    "The ArcGIS API for Python (Python API) is a powerful, modern Pythonic library that supports the latest releases of ArcGIS Enterprise and ArcGIS Online and provides a consistent programmatic experience for scripting and automating across the ArcGIS product suite.\n",
    "\n",
    "Think of the Python API as programmatic access to the `VersionManagementServer` and `ParcelFabricServer` REST endpoints. All functions found in these enpoints are wrapped with functions in Python API."
   ]
  },
  {
   "cell_type": "code",
   "execution_count": 2,
   "id": "55ebd06b",
   "metadata": {},
   "outputs": [
    {
     "name": "stderr",
     "output_type": "stream",
     "text": [
      "Setting `verify_cert` to False is a security risk, use at your own risk.\n"
     ]
    },
    {
     "name": "stdout",
     "output_type": "stream",
     "text": [
      "sde.DEFAULT\n",
      "ADMIN.SplitCOGO_MVVM\n",
      "ADMIN.A\n",
      "ADMIN.B\n",
      "ADMIN.C\n"
     ]
    }
   ],
   "source": [
    "gis = GIS(\"https://dev0016752.esri.com/portal/\", \"admin\", \"esri.agp\", verify_cert=False)\n",
    "vms_url = \"https://dev0016752.esri.com/server/rest/services/SlackStreet/VersionManagementServer\"\n",
    "\n",
    "# Get the VersionManagementServer endpoint and version name\n",
    "vms = VersionManager(vms_url, gis)\n",
    "    \n",
    "for v in vms.all:\n",
    "    print(v.properties.versionName)"
   ]
  },
  {
   "cell_type": "markdown",
   "id": "21290d3c",
   "metadata": {},
   "source": [
    "## Versioning Conflicts\n",
    "### Reconcile and Post all Versions\n",
    "\n",
    "In this scenario, all editing by all users in all versions has taken place. No reconcile and post has occurred at the end of any edit session. The code in the cell below will reconcile and attempt to post all versions alphabetically (`vms.all` is a `list[]`)\n",
    "\n",
    "The code will detect conflicts and report the features in conflict. \n",
    "\n",
    "**WARNING** \n",
    "Reconciling a version a second time will automatically resolve conflicts in favor of the edit version. \n",
    "[Manage Branch Versions](https://pro.arcgis.com/en/pro-app/latest/help/data/geodatabases/overview/manage-branch-version-conflicts.htm#GUID-0F4BAA85-E1B8-4736-A80D-0966B0A400BD)"
   ]
  },
  {
   "cell_type": "code",
   "execution_count": null,
   "id": "62f4670c",
   "metadata": {},
   "outputs": [],
   "source": [
    "for v in vms.all:\n",
    "    if not v.properties.versionName == \"sde.DEFAULT\":\n",
    "        version_name = v.properties.versionName\n",
    "        with vms.get(version_name, \"read\") as version:\n",
    "            print(\"Reconciling\", version_name)\n",
    "            version.mode = \"edit\"\n",
    "            rec = version.reconcile(\n",
    "                end_with_conflict=False,\n",
    "                with_post=True,\n",
    "                conflict_detection=\"byObject\"\n",
    "            )\n",
    "            if rec[\"hasConflicts\"]:\n",
    "                print(\"\\tCONFLICTS DETECTED IN\", version_name)\n",
    "                conflicts = version.conflicts()\n",
    "                print(conflicts)"
   ]
  },
  {
   "cell_type": "markdown",
   "id": "0f0ce7ff",
   "metadata": {},
   "source": [
    "### Repeatability\n",
    "\n",
    "It is possible to repeat the conflicts query after the intial reconcile. "
   ]
  },
  {
   "cell_type": "code",
   "execution_count": 5,
   "id": "0e5aa8d0",
   "metadata": {},
   "outputs": [
    {
     "name": "stdout",
     "output_type": "stream",
     "text": [
      "ADMIN.SplitCOGO_MVVM conflicts found: 0\n",
      "ADMIN.A conflicts found: 0\n",
      "ADMIN.B conflicts found: 2\n",
      "ADMIN.C conflicts found: 0\n"
     ]
    }
   ],
   "source": [
    "for v in vms.all:\n",
    "    if not v.properties.versionName == \"sde.DEFAULT\":\n",
    "        version_name = v.properties.versionName\n",
    "        with vms.get(version_name, \"read\") as version:\n",
    "            print(version_name, \"conflicts found:\", len(version.conflicts()[\"conflicts\"]))"
   ]
  },
  {
   "cell_type": "markdown",
   "id": "b0951801",
   "metadata": {},
   "source": [
    "### Show the conflict features\n",
    "Display the attributes of the current version, common ancestor and default version.\n",
    "\n",
    "For example, show the conflict features of a polygon parcel type layer (layerID 24)"
   ]
  },
  {
   "cell_type": "code",
   "execution_count": 6,
   "id": "db0aded3",
   "metadata": {
    "scrolled": true
   },
   "outputs": [
    {
     "data": {
      "text/plain": [
       "[{'branchVersion': {'attributes': {'OBJECTID': 401,\n",
       "    'Name': None,\n",
       "    'CreatedByRecord': '{70B01D05-ADE3-41D2-9525-98C17905EF4F}',\n",
       "    'RetiredByRecord': '{AF030208-E25C-4CA0-8F4A-97F87A4CB844}',\n",
       "    'StatedArea': None,\n",
       "    'StatedAreaUnit': None,\n",
       "    'CalculatedArea': None,\n",
       "    'MiscloseRatio': None,\n",
       "    'MiscloseDistance': None,\n",
       "    'IsSeed': 0,\n",
       "    'created_user': 'admin',\n",
       "    'created_date': 1701287035000,\n",
       "    'last_edited_user': 'admin',\n",
       "    'last_edited_date': 1701287669000,\n",
       "    'GlobalID': '{D23ECF18-C127-468D-A563-B17D3026B1C9}',\n",
       "    'VALIDATIONSTATUS': 2,\n",
       "    'Shape.STArea()': 1534.223587109188,\n",
       "    'Shape.STLength()': 530.5539629976115},\n",
       "   'geometry': {'hasZ': True,\n",
       "    'rings': [[[6318709.967443049, 1928731.34921439, 0],\n",
       "      [6318969.282541215, 1928727.7051928043, 0],\n",
       "      [6318969.586346388, 1928721.3285651505, 0],\n",
       "      [6318710.271248221, 1928725.8833460659, 0],\n",
       "      [6318709.967443049, 1928731.34921439, 0]]]}},\n",
       "  'ancestorVersion': {'attributes': {'OBJECTID': 401,\n",
       "    'Name': None,\n",
       "    'CreatedByRecord': '{70B01D05-ADE3-41D2-9525-98C17905EF4F}',\n",
       "    'RetiredByRecord': None,\n",
       "    'StatedArea': None,\n",
       "    'StatedAreaUnit': None,\n",
       "    'CalculatedArea': None,\n",
       "    'MiscloseRatio': None,\n",
       "    'MiscloseDistance': None,\n",
       "    'IsSeed': 0,\n",
       "    'created_user': 'admin',\n",
       "    'created_date': 1701287035000,\n",
       "    'last_edited_user': 'admin',\n",
       "    'last_edited_date': 1701287065000,\n",
       "    'GlobalID': '{D23ECF18-C127-468D-A563-B17D3026B1C9}',\n",
       "    'VALIDATIONSTATUS': 2,\n",
       "    'Shape.STArea()': 1534.223587109188,\n",
       "    'Shape.STLength()': 530.5539629976115},\n",
       "   'geometry': {'hasZ': True,\n",
       "    'rings': [[[6318709.967443049, 1928731.34921439, 0],\n",
       "      [6318969.282541215, 1928727.7051928043, 0],\n",
       "      [6318969.586346388, 1928721.3285651505, 0],\n",
       "      [6318710.271248221, 1928725.8833460659, 0],\n",
       "      [6318709.967443049, 1928731.34921439, 0]]]}},\n",
       "  'defaultVersion': {'attributes': {'OBJECTID': 401,\n",
       "    'Name': None,\n",
       "    'CreatedByRecord': '{70B01D05-ADE3-41D2-9525-98C17905EF4F}',\n",
       "    'RetiredByRecord': '{6DA04ACD-D4A4-4E1C-8F68-0409E9CE9B5F}',\n",
       "    'StatedArea': None,\n",
       "    'StatedAreaUnit': None,\n",
       "    'CalculatedArea': None,\n",
       "    'MiscloseRatio': None,\n",
       "    'MiscloseDistance': None,\n",
       "    'IsSeed': 0,\n",
       "    'created_user': 'admin',\n",
       "    'created_date': 1701287035000,\n",
       "    'last_edited_user': 'admin',\n",
       "    'last_edited_date': 1701287531000,\n",
       "    'GlobalID': '{D23ECF18-C127-468D-A563-B17D3026B1C9}',\n",
       "    'VALIDATIONSTATUS': 2,\n",
       "    'Shape.STArea()': 1534.223587109188,\n",
       "    'Shape.STLength()': 530.5539629976115},\n",
       "   'geometry': {'hasZ': True,\n",
       "    'rings': [[[6318709.967443049, 1928731.34921439, 0],\n",
       "      [6318969.282541215, 1928727.7051928043, 0],\n",
       "      [6318969.586346388, 1928721.3285651505, 0],\n",
       "      [6318710.271248221, 1928725.8833460659, 0],\n",
       "      [6318709.967443049, 1928731.34921439, 0]]]}},\n",
       "  'note': '',\n",
       "  'isInspected': False}]"
      ]
     },
     "execution_count": 6,
     "metadata": {},
     "output_type": "execute_result"
    }
   ],
   "source": [
    "version_name = \"ADMIN.B\"\n",
    "\n",
    "with vms.get(version_name, \"read\") as version:\n",
    "    conflicts = version.conflicts()\n",
    "    parcel_conflicts = [c for c in conflicts[\"conflicts\"] if c[\"layerId\"] == 24]\n",
    "parcel_conflicts[0][\"updateUpdateConflicts\"]"
   ]
  },
  {
   "cell_type": "markdown",
   "id": "b89d1e02",
   "metadata": {},
   "source": [
    "## Version Differences\n",
    "Show all changes between a branch version and the Default version"
   ]
  },
  {
   "cell_type": "code",
   "execution_count": 8,
   "id": "23a3df70",
   "metadata": {
    "scrolled": true
   },
   "outputs": [
    {
     "data": {
      "text/plain": [
       "[{'OBJECTID': 1202,\n",
       "  'Name': None,\n",
       "  'CreatedByRecord': '{AF030208-E25C-4CA0-8F4A-97F87A4CB844}',\n",
       "  'RetiredByRecord': None,\n",
       "  'StatedArea': None,\n",
       "  'StatedAreaUnit': None,\n",
       "  'CalculatedArea': None,\n",
       "  'MiscloseRatio': None,\n",
       "  'MiscloseDistance': None,\n",
       "  'IsSeed': 0,\n",
       "  'created_user': 'admin',\n",
       "  'created_date': 1701287660000,\n",
       "  'last_edited_user': 'admin',\n",
       "  'last_edited_date': 1701287669000,\n",
       "  'GlobalID': '{73941D37-5BB9-472E-8B54-001BC5384C2F}',\n",
       "  'VALIDATIONSTATUS': 2,\n",
       "  'Shape.STArea()': 92.48489835622219,\n",
       "  'Shape.STLength()': 64.11570515889085},\n",
       " {'OBJECTID': 1303,\n",
       "  'Name': None,\n",
       "  'CreatedByRecord': '{AF030208-E25C-4CA0-8F4A-97F87A4CB844}',\n",
       "  'RetiredByRecord': None,\n",
       "  'StatedArea': None,\n",
       "  'StatedAreaUnit': None,\n",
       "  'CalculatedArea': None,\n",
       "  'MiscloseRatio': None,\n",
       "  'MiscloseDistance': None,\n",
       "  'IsSeed': 0,\n",
       "  'created_user': 'admin',\n",
       "  'created_date': 1701287660000,\n",
       "  'last_edited_user': 'admin',\n",
       "  'last_edited_date': 1701287669000,\n",
       "  'GlobalID': '{4DFEB76B-9A9A-49D8-B100-66F6859726A3}',\n",
       "  'VALIDATIONSTATUS': 2,\n",
       "  'Shape.STArea()': 1441.8331972306153,\n",
       "  'Shape.STLength()': 536.6778907001849},\n",
       " {'OBJECTID': 401,\n",
       "  'Name': None,\n",
       "  'CreatedByRecord': '{70B01D05-ADE3-41D2-9525-98C17905EF4F}',\n",
       "  'RetiredByRecord': '{AF030208-E25C-4CA0-8F4A-97F87A4CB844}',\n",
       "  'StatedArea': None,\n",
       "  'StatedAreaUnit': None,\n",
       "  'CalculatedArea': None,\n",
       "  'MiscloseRatio': None,\n",
       "  'MiscloseDistance': None,\n",
       "  'IsSeed': 0,\n",
       "  'created_user': 'admin',\n",
       "  'created_date': 1701287035000,\n",
       "  'last_edited_user': 'admin',\n",
       "  'last_edited_date': 1701287669000,\n",
       "  'GlobalID': '{D23ECF18-C127-468D-A563-B17D3026B1C9}',\n",
       "  'VALIDATIONSTATUS': 2,\n",
       "  'Shape.STArea()': 1534.223587109188,\n",
       "  'Shape.STLength()': 530.5539629976115}]"
      ]
     },
     "execution_count": 8,
     "metadata": {},
     "output_type": "execute_result"
    }
   ],
   "source": [
    "# Get the OID and CBR of the features edited in branch.\n",
    "# Open the version and start an edit session\n",
    "with vms.get(version_name, \"read\") as version:\n",
    "    version.mode = \"edit\"\n",
    "    \n",
    "    # Get version differences for lines and parcels of ROW parcel type\n",
    "    diff = version.differences(result_type=\"features\", layers=[23, 24])\n",
    "    \n",
    "    # Get all recent changes that differ between branch version and Default\n",
    "    parcel_differences = [f for f in diff[\"features\"] if f[\"layerId\"] == 24][0]\n",
    "    inserts = [f[\"attributes\"] for f in parcel_differences[\"inserts\"]]\n",
    "    updates = [f[\"attributes\"] for f in parcel_differences[\"updates\"]]\n",
    "    all_edits = inserts + updates\n",
    "    \n",
    "all_edits"
   ]
  },
  {
   "cell_type": "markdown",
   "id": "365da649",
   "metadata": {},
   "source": [
    "### Detect Conflicting Parcel Fabric Edits\n",
    "\n",
    "In this case, long right-of-way polygons could be edited in multiple versions. The first version to be posted wins and subsequent posts to default will be in conflict. In the parcel fabric, we may be able to detect which features have been edited using the `RetiredByRecord` field.\n",
    "\n",
    "Using the `differences` function on the `version` object, it is possible to filter the features by having a `RetiredByRecord` field."
   ]
  },
  {
   "cell_type": "code",
   "execution_count": 10,
   "id": "92cc6ca3",
   "metadata": {},
   "outputs": [
    {
     "data": {
      "text/plain": [
       "[{'objectid': 1202, 'retiredbyrecord': None},\n",
       " {'objectid': 1303, 'retiredbyrecord': None},\n",
       " {'objectid': 401,\n",
       "  'retiredbyrecord': '{AF030208-E25C-4CA0-8F4A-97F87A4CB844}'}]"
      ]
     },
     "execution_count": 10,
     "metadata": {},
     "output_type": "execute_result"
    }
   ],
   "source": [
    "edited_parcel_features = [{\"objectid\":f[\"OBJECTID\"], \"retiredbyrecord\": f[\"RetiredByRecord\"]} for f in all_edits]\n",
    "edited_parcel_features"
   ]
  }
 ],
 "metadata": {
  "kernelspec": {
   "display_name": "Python 3 (ipykernel)",
   "language": "python",
   "name": "python3"
  },
  "language_info": {
   "codemirror_mode": {
    "name": "ipython",
    "version": 3
   },
   "file_extension": ".py",
   "mimetype": "text/x-python",
   "name": "python",
   "nbconvert_exporter": "python",
   "pygments_lexer": "ipython3",
   "version": "3.9.18"
  }
 },
 "nbformat": 4,
 "nbformat_minor": 5
}
